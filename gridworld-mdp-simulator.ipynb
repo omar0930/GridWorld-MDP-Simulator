{
 "cells": [
  {
   "cell_type": "code",
   "execution_count": 1,
   "id": "041035ae",
   "metadata": {
    "_cell_guid": "b1076dfc-b9ad-4769-8c92-a6c4dae69d19",
    "_uuid": "8f2839f25d086af736a60e9eeb907d3b93b6e0e5",
    "execution": {
     "iopub.execute_input": "2024-03-23T14:38:56.893692Z",
     "iopub.status.busy": "2024-03-23T14:38:56.893076Z",
     "iopub.status.idle": "2024-03-23T14:38:56.915507Z",
     "shell.execute_reply": "2024-03-23T14:38:56.914319Z"
    },
    "papermill": {
     "duration": 0.030273,
     "end_time": "2024-03-23T14:38:56.918311",
     "exception": false,
     "start_time": "2024-03-23T14:38:56.888038",
     "status": "completed"
    },
    "tags": []
   },
   "outputs": [],
   "source": [
    "class GridWorldMDP:\n",
    "    def __init__(self, grid, terminals, transition_probs=None, rewards=None, discount=0.9):\n",
    "        self.grid = grid\n",
    "        self.terminals = set(terminals)\n",
    "        self.transition_probs = transition_probs or {a: 1 for a in ['up', 'down', 'left', 'right']}\n",
    "        self.rewards = rewards or {}\n",
    "        self.discount = discount\n",
    "        self.states = set()\n",
    "        self._init_states()\n",
    "\n",
    "    def _init_states(self):\n",
    "        for row in range(len(self.grid)):\n",
    "            for col in range(len(self.grid[row])):\n",
    "                if self.grid[row][col] == 'o':\n",
    "                    self.states.add((row, col))\n",
    "\n",
    "    def _is_valid_state(self, state):\n",
    "        row, col = state\n",
    "        return 0 <= row < len(self.grid) and 0 <= col < len(self.grid[0]) and self.grid[row][col] == 'o'\n",
    "\n",
    "    def get_transition_states_and_probs(self, state, action):\n",
    "        if state in self.terminals:\n",
    "            return [(state, 1.0)]\n",
    "        movements = {'up': (-1, 0), 'down': (1, 0), 'left': (0, -1), 'right': (0, 1)}\n",
    "        next_state = tuple(map(sum, zip(state, movements[action])))\n",
    "        if self._is_valid_state(next_state):\n",
    "            return [(next_state, self.transition_probs[action])]\n",
    "        return [(state, 1.0)]\n",
    "\n",
    "    def get_reward(self, state, action, next_state):\n",
    "        return self.rewards.get(next_state, 0)\n"
   ]
  },
  {
   "cell_type": "code",
   "execution_count": 2,
   "id": "2e140c73",
   "metadata": {
    "execution": {
     "iopub.execute_input": "2024-03-23T14:38:56.925889Z",
     "iopub.status.busy": "2024-03-23T14:38:56.925026Z",
     "iopub.status.idle": "2024-03-23T14:38:56.931938Z",
     "shell.execute_reply": "2024-03-23T14:38:56.930500Z"
    },
    "papermill": {
     "duration": 0.013386,
     "end_time": "2024-03-23T14:38:56.934604",
     "exception": false,
     "start_time": "2024-03-23T14:38:56.921218",
     "status": "completed"
    },
    "tags": []
   },
   "outputs": [],
   "source": [
    "grid = [['o', 'o', 'o', 'o'],\n",
    "        ['o', 'x', 'o', 'x'],\n",
    "        ['o', 'o', 'o', 'o']]\n",
    "terminals = [(2, 3)]\n",
    "mdp = GridWorldMDP(grid, terminals)"
   ]
  },
  {
   "cell_type": "code",
   "execution_count": 3,
   "id": "b1f3afd3",
   "metadata": {
    "execution": {
     "iopub.execute_input": "2024-03-23T14:38:56.941265Z",
     "iopub.status.busy": "2024-03-23T14:38:56.940807Z",
     "iopub.status.idle": "2024-03-23T14:38:56.948799Z",
     "shell.execute_reply": "2024-03-23T14:38:56.947535Z"
    },
    "papermill": {
     "duration": 0.015415,
     "end_time": "2024-03-23T14:38:56.952492",
     "exception": false,
     "start_time": "2024-03-23T14:38:56.937077",
     "status": "completed"
    },
    "tags": []
   },
   "outputs": [
    {
     "name": "stdout",
     "output_type": "stream",
     "text": [
      "Transitions: [((0, 2), 1)]\n",
      "Reward: 0\n"
     ]
    }
   ],
   "source": [
    "test_state = (1, 2)\n",
    "test_action = 'up'\n",
    "transitions = mdp.get_transition_states_and_probs(test_state, test_action)\n",
    "reward = mdp.get_reward(test_state, test_action, transitions[0][0])\n",
    "print(\"Transitions:\", transitions)\n",
    "print(\"Reward:\", reward)"
   ]
  }
 ],
 "metadata": {
  "kaggle": {
   "accelerator": "none",
   "dataSources": [],
   "dockerImageVersionId": 30673,
   "isGpuEnabled": false,
   "isInternetEnabled": true,
   "language": "python",
   "sourceType": "notebook"
  },
  "kernelspec": {
   "display_name": "Python 3",
   "language": "python",
   "name": "python3"
  },
  "language_info": {
   "codemirror_mode": {
    "name": "ipython",
    "version": 3
   },
   "file_extension": ".py",
   "mimetype": "text/x-python",
   "name": "python",
   "nbconvert_exporter": "python",
   "pygments_lexer": "ipython3",
   "version": "3.10.13"
  },
  "papermill": {
   "default_parameters": {},
   "duration": 3.694421,
   "end_time": "2024-03-23T14:38:57.377416",
   "environment_variables": {},
   "exception": null,
   "input_path": "__notebook__.ipynb",
   "output_path": "__notebook__.ipynb",
   "parameters": {},
   "start_time": "2024-03-23T14:38:53.682995",
   "version": "2.5.0"
  }
 },
 "nbformat": 4,
 "nbformat_minor": 5
}
